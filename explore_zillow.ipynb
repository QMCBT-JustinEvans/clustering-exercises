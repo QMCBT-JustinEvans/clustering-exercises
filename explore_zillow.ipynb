{
 "cells": [
  {
   "cell_type": "markdown",
   "id": "e31060f8",
   "metadata": {},
   "source": [
    "# Exploratory Analysis Exercises\n",
    "Sourcing the ```Zillow``` database as the data source, create a jupyter notebook named ```explore_zillow``` and do the following:"
   ]
  },
  {
   "cell_type": "markdown",
   "id": "c75b8d65",
   "metadata": {},
   "source": [
    "### 1. Ask at least 5 questions about the data, keeping in mind that your target variable is logerror. e.g. Is logerror significantly different for properties in LA County vs Orange County vs Ventura County?"
   ]
  },
  {
   "cell_type": "markdown",
   "id": "40b4e0c1",
   "metadata": {},
   "source": [
    "### 2. Answer those questions through a mix of statistical tests and visualizations."
   ]
  },
  {
   "cell_type": "markdown",
   "id": "2048d228",
   "metadata": {},
   "source": [
    "## Bonus:\n",
    "\n",
    "Compute the ```mean(logerror)``` by **zipcode** and the **overall** ```mean(logerror)```. Write a loop that will run a **t-test** between the **overall** mean and the mean for each **zip code**. We want to identify the zip codes where the error is significantly higher or lower than the expected error."
   ]
  },
  {
   "cell_type": "code",
   "execution_count": null,
   "id": "c51ee514",
   "metadata": {},
   "outputs": [],
   "source": []
  }
 ],
 "metadata": {
  "kernelspec": {
   "display_name": "Python 3 (ipykernel)",
   "language": "python",
   "name": "python3"
  },
  "language_info": {
   "codemirror_mode": {
    "name": "ipython",
    "version": 3
   },
   "file_extension": ".py",
   "mimetype": "text/x-python",
   "name": "python",
   "nbconvert_exporter": "python",
   "pygments_lexer": "ipython3",
   "version": "3.9.12"
  }
 },
 "nbformat": 4,
 "nbformat_minor": 5
}
