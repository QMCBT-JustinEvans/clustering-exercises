{
 "cells": [
  {
   "cell_type": "markdown",
   "id": "643e03a1",
   "metadata": {},
   "source": [
    "# Data Wrangling Exercises\n",
    "Using the repo setup directions, setup a new local and remote repository named ```clustering-exercises```. The local version of your repo should live inside of ```~/codeup-data-science```. This repo should be named ```clustering-exercises```.\n",
    "\n",
    "Save your clustering work in your ```clustering-exercises``` repo. Then ```add```, ```commit```, and ```push``` your changes.\n",
    "\n",
    "For example, if the exercise directs you to create a file named ```myfile.py```, you should have ```clustering/myfile.py``` in your repository.\n",
    "\n",
    "If a file extension is specified, you should create that specific file. If there is no file extension specified, you may either create a python script or a jupyter notebook for the exercise.\n",
    "\n",
    "    Workflow\n",
    "    \n",
    "    Throughout the exercises, you may wish to do your work in a notebook, then transfer any functions you've created to an external python script.\n",
    "    \n",
    "    Keep in mind this is not always a linear process! You will probably be cycling between a notebook and an external python script frequently.\n",
    "    \n",
    "    Remember to run your code often to check for correct output and/or errors."
   ]
  },
  {
   "cell_type": "markdown",
   "id": "fc278312",
   "metadata": {},
   "source": [
    "## Zillow\n",
    "\n",
    "For the following, iterate through the steps you would take to create functions: Write the code to do the following in a jupyter notebook, test it, convert to functions, then create the file to house those functions.\n",
    "\n",
    "You will have a ```zillow.ipynb``` file and a ```helper file``` for each section in the pipeline."
   ]
  },
  {
   "cell_type": "markdown",
   "id": "16c0de1b",
   "metadata": {},
   "source": [
    "### Acquire and Summarize"
   ]
  },
  {
   "cell_type": "markdown",
   "id": "18c64b1f",
   "metadata": {},
   "source": [
    "### 1. Acquire data from the cloud database.\n",
    "\n",
    "You will want to end with a single dataframe. Include the logerror field and all other fields related to the properties that are available. You will end up using all the tables in the database.\n",
    "\n",
    "**Be sure to do the correct join (inner, outer, etc.). We do not want to eliminate properties purely because they may have a null value for** ```airconditioningtypeid```. - Only include properties with a transaction in 2017, and include only the last transaction for each property (so no duplicate property ID's), along with zestimate error and date of transaction. (Hint: read the docs for the ```.duplicated``` method) - Only include properties that have a **latitude** and **longitude** value."
   ]
  },
  {
   "cell_type": "markdown",
   "id": "feae44bc",
   "metadata": {},
   "source": [
    "### 2. Summarize your data (summary stats, info, dtypes, shape, distributions, value_counts, etc.)"
   ]
  },
  {
   "cell_type": "markdown",
   "id": "0e01221b",
   "metadata": {},
   "source": [
    "### 3. Write a function that takes in a dataframe of observations and attributes and returns a dataframe where each row is an atttribute name, the first column is the number of rows with missing values for that attribute, and the second column is percent of total rows that have missing values for that attribute. Run the function and document takeaways from this on how you want to handle missing values.\n",
    "\n",
    "The output should look like the table below:\n",
    "\n",
    "|  |num_rows_missing|pct_rows_missing|\n",
    "|:-|---------------:|---------------:|\n",
    "|parcelid|\t0|\t0.000000|\n",
    "|airconditioningtypeid|\t29041|\t0.535486|\n",
    "|architecturalstyletypeid|\t54232|\t0.999982|"
   ]
  },
  {
   "cell_type": "markdown",
   "id": "2c2b97e6",
   "metadata": {},
   "source": [
    "### Prepare"
   ]
  },
  {
   "cell_type": "markdown",
   "id": "86b6d060",
   "metadata": {},
   "source": [
    "### 1. Remove any properties that are likely to be something other than single unit properties. (e.g. no duplexes, no land/lot, ...). There are multiple ways to estimate that a property is a single unit, and there is not a single \"right\" answer."
   ]
  },
  {
   "cell_type": "markdown",
   "id": "3bfdf9eb",
   "metadata": {},
   "source": [
    "### 2. Create a function that will drop rows or columns based on the percent of values that are missing: ```handle_missing_values(df, prop_required_column, prop_required_row)```.\n",
    "\n",
    "* The input:\n",
    "    * A dataframe\n",
    "    * A number between 0 and 1 that represents the proportion, for each column, of rows with non-missing values required to keep the column. i.e. if prop_required_column = .6, then you are requiring a column to have at least 60% of values not-NA (no more than 40% missing).\n",
    "    * A number between 0 and 1 that represents the proportion, for each row, of columns/variables with non-missing values required to keep the row. For example, if prop_required_row = .75, then you are requiring a row to have at least 75% of variables with a non-missing value (no more that 25% missing).\n",
    "* The output:\n",
    "    * The dataframe with the columns and rows dropped as indicated. Be sure to drop the columns prior to the rows in your function.\n",
    "* hint:\n",
    "    * Look up the dropna documentation.\n",
    "    * You will want to compute a threshold from your input values (prop_required) and total number of rows or columns."
   ]
  },
  {
   "cell_type": "markdown",
   "id": "e94203f4",
   "metadata": {},
   "source": [
    "### 3. Encapsulate your work inside of functions in a ```wrangle_zillow.py``` module."
   ]
  },
  {
   "cell_type": "markdown",
   "id": "f321850f",
   "metadata": {},
   "source": [
    "## Mall Customers"
   ]
  },
  {
   "cell_type": "markdown",
   "id": "a4c9ccbc",
   "metadata": {},
   "source": [
    "### Notebook"
   ]
  },
  {
   "cell_type": "markdown",
   "id": "584dffa4",
   "metadata": {},
   "source": [
    "### 1. Acquire data from the customers table in the ```mall_customers``` database."
   ]
  },
  {
   "cell_type": "markdown",
   "id": "6e23db26",
   "metadata": {},
   "source": [
    "### 2. Summarize the data (include distributions and descriptive statistics)."
   ]
  },
  {
   "cell_type": "markdown",
   "id": "11f774f7",
   "metadata": {},
   "source": [
    "### 3. Detect outliers using IQR."
   ]
  },
  {
   "cell_type": "markdown",
   "id": "ed390996",
   "metadata": {},
   "source": [
    "### 4. Split data into train, validate, and test."
   ]
  },
  {
   "cell_type": "markdown",
   "id": "920ca8e7",
   "metadata": {},
   "source": [
    "### 5. Encode categorical columns using a one hot encoder (```pd.get_dummies```)."
   ]
  },
  {
   "cell_type": "markdown",
   "id": "1f773cfa",
   "metadata": {},
   "source": [
    "### 6. Handles missing values."
   ]
  },
  {
   "cell_type": "markdown",
   "id": "af1e62cc",
   "metadata": {},
   "source": [
    "### 7. Scaling"
   ]
  },
  {
   "cell_type": "markdown",
   "id": "3c8ee25c",
   "metadata": {},
   "source": [
    "### 8. Encapsulate your work in a ```wrangle_mall.py``` module."
   ]
  },
  {
   "cell_type": "markdown",
   "id": "13afd66c",
   "metadata": {},
   "source": []
  }
 ],
 "metadata": {
  "kernelspec": {
   "display_name": "Python 3 (ipykernel)",
   "language": "python",
   "name": "python3"
  },
  "language_info": {
   "codemirror_mode": {
    "name": "ipython",
    "version": 3
   },
   "file_extension": ".py",
   "mimetype": "text/x-python",
   "name": "python",
   "nbconvert_exporter": "python",
   "pygments_lexer": "ipython3",
   "version": "3.9.12"
  }
 },
 "nbformat": 4,
 "nbformat_minor": 5
}
